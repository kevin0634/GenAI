{
  "nbformat": 4,
  "nbformat_minor": 0,
  "metadata": {
    "colab": {
      "provenance": [],
      "authorship_tag": "ABX9TyNUSxRynQ6YkD4UxZqxx4Ui",
      "include_colab_link": true
    },
    "kernelspec": {
      "name": "python3",
      "display_name": "Python 3"
    },
    "language_info": {
      "name": "python"
    }
  },
  "cells": [
    {
      "cell_type": "markdown",
      "metadata": {
        "id": "view-in-github",
        "colab_type": "text"
      },
      "source": [
        "<a href=\"https://colab.research.google.com/github/kevin0634/GenAI/blob/main/Gimini_API_Example.ipynb\" target=\"_parent\"><img src=\"https://colab.research.google.com/assets/colab-badge.svg\" alt=\"Open In Colab\"/></a>"
      ]
    },
    {
      "cell_type": "code",
      "execution_count": 3,
      "metadata": {
        "id": "B6EBtRpedsec"
      },
      "outputs": [],
      "source": [
        "import google.generativeai as genai\n",
        "from google.colab import userdata\n",
        "GOOGLE_API_KEY=userdata.get('GOOGLE_API_KEY')\n",
        "genai.configure(api_key=GOOGLE_API_KEY)"
      ]
    },
    {
      "cell_type": "code",
      "source": [
        "model = genai.GenerativeModel('gemini-pro')"
      ],
      "metadata": {
        "id": "aZfqWaaFeTQS"
      },
      "execution_count": 6,
      "outputs": []
    },
    {
      "cell_type": "code",
      "source": [
        "response = model.generate_content(\"Tell me different types of wine from French\")"
      ],
      "metadata": {
        "id": "r0eRP4RreuWS"
      },
      "execution_count": 7,
      "outputs": []
    },
    {
      "cell_type": "code",
      "source": [
        "print(response.text)"
      ],
      "metadata": {
        "colab": {
          "base_uri": "https://localhost:8080/"
        },
        "id": "eoxlYP_Xe_1n",
        "outputId": "db43f4d5-dc8f-4274-fa0c-87d6d4bd047d"
      },
      "execution_count": 9,
      "outputs": [
        {
          "output_type": "stream",
          "name": "stdout",
          "text": [
            "**Red Wines:**\n",
            "\n",
            "* **Bordeaux:**\n",
            "    * Cabernet Sauvignon\n",
            "    * Merlot\n",
            "    * Cabernet Franc\n",
            "    * Petit Verdot\n",
            "* **Burgundy (Pinot Noir):**\n",
            "    * Bourgogne Rouge\n",
            "    * Côte de Nuits\n",
            "    * Côte de Beaune\n",
            "* **Côtes du Rhône:**\n",
            "    * Grenache\n",
            "    * Syrah (Shiraz)\n",
            "    * Mourvèdre\n",
            "* **Alsace:**\n",
            "    * Pinot Noir\n",
            "    * Gewürztraminer\n",
            "* **Beaujolais:**\n",
            "    * Gamay\n",
            "\n",
            "**White Wines:**\n",
            "\n",
            "* **Bordeaux:**\n",
            "    * Sauvignon Blanc\n",
            "    * Sémillon\n",
            "    * Muscadelle\n",
            "* **Burgundy (Chardonnay):**\n",
            "    * Bourgogne Blanc\n",
            "    * Chablis\n",
            "    * Mâcon\n",
            "* **Alsace:**\n",
            "    * Riesling\n",
            "    * Pinot Gris\n",
            "    * Gewürztraminer\n",
            "* **Loire Valley:**\n",
            "    * Sauvignon Blanc\n",
            "    * Chenin Blanc\n",
            "* **Sancerre:**\n",
            "    * Sauvignon Blanc\n",
            "\n",
            "**Rosé Wines:**\n",
            "\n",
            "* **Provence:**\n",
            "    * Grenache\n",
            "    * Cinsault\n",
            "    * Syrah\n",
            "* **Loire Valley:**\n",
            "    * Cabernet Franc\n",
            "    * Gamay\n",
            "\n",
            "**Sparkling Wines:**\n",
            "\n",
            "* **Champagne:**\n",
            "    * Pinot Noir\n",
            "    * Chardonnay\n",
            "    * Pinot Meunier\n",
            "\n",
            "**Fortified Wines:**\n",
            "\n",
            "* **Sauternes:**\n",
            "    * Sauvignon Blanc\n",
            "    * Sémillon\n",
            "    * Muscadelle\n",
            "* **Port:**\n",
            "    * Syrah\n",
            "    * Grenache\n",
            "* **Madeira:**\n",
            "    * Malvasia\n",
            "    * Bual\n",
            "    * Serracial\n"
          ]
        }
      ]
    }
  ]
}